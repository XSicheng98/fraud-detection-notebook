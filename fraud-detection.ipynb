{
 "cells": [
  {
   "cell_type": "markdown",
   "id": "92fbfc49",
   "metadata": {},
   "source": [
    "### Import Libraries and Load the Dataset\n",
    "\n",
    "This code performs the following operations:\n",
    "- This code will load and print out the dataset"
   ]
  },
  {
   "cell_type": "code",
   "execution_count": 1,
   "id": "775b2a98-5bd5-4e8f-bb46-40f87db3b9ea",
   "metadata": {
    "scrolled": true,
    "tags": []
   },
   "outputs": [
    {
     "name": "stdout",
     "output_type": "stream",
     "text": [
      "Dataset Info:\n",
      "<class 'pandas.core.frame.DataFrame'>\n",
      "RangeIndex: 284807 entries, 0 to 284806\n",
      "Data columns (total 31 columns):\n",
      " #   Column  Non-Null Count   Dtype  \n",
      "---  ------  --------------   -----  \n",
      " 0   Time    284807 non-null  float64\n",
      " 1   V1      284807 non-null  float64\n",
      " 2   V2      284807 non-null  float64\n",
      " 3   V3      284807 non-null  float64\n",
      " 4   V4      284807 non-null  float64\n",
      " 5   V5      284807 non-null  float64\n",
      " 6   V6      284807 non-null  float64\n",
      " 7   V7      284807 non-null  float64\n",
      " 8   V8      284807 non-null  float64\n",
      " 9   V9      284807 non-null  float64\n",
      " 10  V10     284807 non-null  float64\n",
      " 11  V11     284807 non-null  float64\n",
      " 12  V12     284807 non-null  float64\n",
      " 13  V13     284807 non-null  float64\n",
      " 14  V14     284807 non-null  float64\n",
      " 15  V15     284807 non-null  float64\n",
      " 16  V16     284807 non-null  float64\n",
      " 17  V17     284807 non-null  float64\n",
      " 18  V18     284807 non-null  float64\n",
      " 19  V19     284807 non-null  float64\n",
      " 20  V20     284807 non-null  float64\n",
      " 21  V21     284807 non-null  float64\n",
      " 22  V22     284807 non-null  float64\n",
      " 23  V23     284807 non-null  float64\n",
      " 24  V24     284807 non-null  float64\n",
      " 25  V25     284807 non-null  float64\n",
      " 26  V26     284807 non-null  float64\n",
      " 27  V27     284807 non-null  float64\n",
      " 28  V28     284807 non-null  float64\n",
      " 29  Amount  284807 non-null  float64\n",
      " 30  Class   284807 non-null  int64  \n",
      "dtypes: float64(30), int64(1)\n",
      "memory usage: 67.4 MB\n",
      "None\n",
      "\n",
      "First 5 Rows:\n",
      "   Time        V1        V2        V3        V4        V5        V6        V7  \\\n",
      "0   0.0 -1.359807 -0.072781  2.536347  1.378155 -0.338321  0.462388  0.239599   \n",
      "1   0.0  1.191857  0.266151  0.166480  0.448154  0.060018 -0.082361 -0.078803   \n",
      "2   1.0 -1.358354 -1.340163  1.773209  0.379780 -0.503198  1.800499  0.791461   \n",
      "3   1.0 -0.966272 -0.185226  1.792993 -0.863291 -0.010309  1.247203  0.237609   \n",
      "4   2.0 -1.158233  0.877737  1.548718  0.403034 -0.407193  0.095921  0.592941   \n",
      "\n",
      "         V8        V9  ...       V21       V22       V23       V24       V25  \\\n",
      "0  0.098698  0.363787  ... -0.018307  0.277838 -0.110474  0.066928  0.128539   \n",
      "1  0.085102 -0.255425  ... -0.225775 -0.638672  0.101288 -0.339846  0.167170   \n",
      "2  0.247676 -1.514654  ...  0.247998  0.771679  0.909412 -0.689281 -0.327642   \n",
      "3  0.377436 -1.387024  ... -0.108300  0.005274 -0.190321 -1.175575  0.647376   \n",
      "4 -0.270533  0.817739  ... -0.009431  0.798278 -0.137458  0.141267 -0.206010   \n",
      "\n",
      "        V26       V27       V28  Amount  Class  \n",
      "0 -0.189115  0.133558 -0.021053  149.62      0  \n",
      "1  0.125895 -0.008983  0.014724    2.69      0  \n",
      "2 -0.139097 -0.055353 -0.059752  378.66      0  \n",
      "3 -0.221929  0.062723  0.061458  123.50      0  \n",
      "4  0.502292  0.219422  0.215153   69.99      0  \n",
      "\n",
      "[5 rows x 31 columns]\n"
     ]
    }
   ],
   "source": [
    "import pandas as pd\n",
    "\n",
    "# Load the dataset\n",
    "file_path = './creditcard.csv'  # Update the path if needed\n",
    "df = pd.read_csv(file_path)\n",
    "\n",
    "# Display basic information about the dataset\n",
    "print(\"Dataset Info:\")\n",
    "print(df.info())\n",
    "\n",
    "# Display the first few rows of the dataset\n",
    "print(\"\\nFirst 5 Rows:\")\n",
    "print(df.head())\n",
    "\n"
   ]
  },
  {
   "cell_type": "markdown",
   "id": "0e049f48",
   "metadata": {},
   "source": [
    "### Check for Missing Values and Basic Stats\n",
    "\n",
    "This code performs the following operations:\n",
    "- After loading and reading, now we check for missing values and also the basic stats"
   ]
  },
  {
   "cell_type": "code",
   "execution_count": 2,
   "id": "14115fa6-1b18-437b-b06c-a50ac8571998",
   "metadata": {
    "tags": []
   },
   "outputs": [
    {
     "name": "stdout",
     "output_type": "stream",
     "text": [
      "\n",
      "Missing Values:\n",
      "Time      0\n",
      "V1        0\n",
      "V2        0\n",
      "V3        0\n",
      "V4        0\n",
      "V5        0\n",
      "V6        0\n",
      "V7        0\n",
      "V8        0\n",
      "V9        0\n",
      "V10       0\n",
      "V11       0\n",
      "V12       0\n",
      "V13       0\n",
      "V14       0\n",
      "V15       0\n",
      "V16       0\n",
      "V17       0\n",
      "V18       0\n",
      "V19       0\n",
      "V20       0\n",
      "V21       0\n",
      "V22       0\n",
      "V23       0\n",
      "V24       0\n",
      "V25       0\n",
      "V26       0\n",
      "V27       0\n",
      "V28       0\n",
      "Amount    0\n",
      "Class     0\n",
      "dtype: int64\n",
      "\n",
      "Dataset Statistics:\n",
      "                Time            V1            V2            V3            V4  \\\n",
      "count  284807.000000  2.848070e+05  2.848070e+05  2.848070e+05  2.848070e+05   \n",
      "mean    94813.859575  1.168375e-15  3.416908e-16 -1.379537e-15  2.074095e-15   \n",
      "std     47488.145955  1.958696e+00  1.651309e+00  1.516255e+00  1.415869e+00   \n",
      "min         0.000000 -5.640751e+01 -7.271573e+01 -4.832559e+01 -5.683171e+00   \n",
      "25%     54201.500000 -9.203734e-01 -5.985499e-01 -8.903648e-01 -8.486401e-01   \n",
      "50%     84692.000000  1.810880e-02  6.548556e-02  1.798463e-01 -1.984653e-02   \n",
      "75%    139320.500000  1.315642e+00  8.037239e-01  1.027196e+00  7.433413e-01   \n",
      "max    172792.000000  2.454930e+00  2.205773e+01  9.382558e+00  1.687534e+01   \n",
      "\n",
      "                 V5            V6            V7            V8            V9  \\\n",
      "count  2.848070e+05  2.848070e+05  2.848070e+05  2.848070e+05  2.848070e+05   \n",
      "mean   9.604066e-16  1.487313e-15 -5.556467e-16  1.213481e-16 -2.406331e-15   \n",
      "std    1.380247e+00  1.332271e+00  1.237094e+00  1.194353e+00  1.098632e+00   \n",
      "min   -1.137433e+02 -2.616051e+01 -4.355724e+01 -7.321672e+01 -1.343407e+01   \n",
      "25%   -6.915971e-01 -7.682956e-01 -5.540759e-01 -2.086297e-01 -6.430976e-01   \n",
      "50%   -5.433583e-02 -2.741871e-01  4.010308e-02  2.235804e-02 -5.142873e-02   \n",
      "75%    6.119264e-01  3.985649e-01  5.704361e-01  3.273459e-01  5.971390e-01   \n",
      "max    3.480167e+01  7.330163e+01  1.205895e+02  2.000721e+01  1.559499e+01   \n",
      "\n",
      "       ...           V21           V22           V23           V24  \\\n",
      "count  ...  2.848070e+05  2.848070e+05  2.848070e+05  2.848070e+05   \n",
      "mean   ...  1.654067e-16 -3.568593e-16  2.578648e-16  4.473266e-15   \n",
      "std    ...  7.345240e-01  7.257016e-01  6.244603e-01  6.056471e-01   \n",
      "min    ... -3.483038e+01 -1.093314e+01 -4.480774e+01 -2.836627e+00   \n",
      "25%    ... -2.283949e-01 -5.423504e-01 -1.618463e-01 -3.545861e-01   \n",
      "50%    ... -2.945017e-02  6.781943e-03 -1.119293e-02  4.097606e-02   \n",
      "75%    ...  1.863772e-01  5.285536e-01  1.476421e-01  4.395266e-01   \n",
      "max    ...  2.720284e+01  1.050309e+01  2.252841e+01  4.584549e+00   \n",
      "\n",
      "                V25           V26           V27           V28         Amount  \\\n",
      "count  2.848070e+05  2.848070e+05  2.848070e+05  2.848070e+05  284807.000000   \n",
      "mean   5.340915e-16  1.683437e-15 -3.660091e-16 -1.227390e-16      88.349619   \n",
      "std    5.212781e-01  4.822270e-01  4.036325e-01  3.300833e-01     250.120109   \n",
      "min   -1.029540e+01 -2.604551e+00 -2.256568e+01 -1.543008e+01       0.000000   \n",
      "25%   -3.171451e-01 -3.269839e-01 -7.083953e-02 -5.295979e-02       5.600000   \n",
      "50%    1.659350e-02 -5.213911e-02  1.342146e-03  1.124383e-02      22.000000   \n",
      "75%    3.507156e-01  2.409522e-01  9.104512e-02  7.827995e-02      77.165000   \n",
      "max    7.519589e+00  3.517346e+00  3.161220e+01  3.384781e+01   25691.160000   \n",
      "\n",
      "               Class  \n",
      "count  284807.000000  \n",
      "mean        0.001727  \n",
      "std         0.041527  \n",
      "min         0.000000  \n",
      "25%         0.000000  \n",
      "50%         0.000000  \n",
      "75%         0.000000  \n",
      "max         1.000000  \n",
      "\n",
      "[8 rows x 31 columns]\n"
     ]
    }
   ],
   "source": [
    "# Check for missing values\n",
    "print(\"\\nMissing Values:\")\n",
    "print(df.isnull().sum())\n",
    "\n",
    "# Basic statistics of numerical columns\n",
    "print(\"\\nDataset Statistics:\")\n",
    "print(df.describe())\n"
   ]
  },
  {
   "cell_type": "markdown",
   "id": "a947c58e",
   "metadata": {},
   "source": [
    "Here are the key observations from the dataset:\n",
    "\n",
    "### Dataset Overview\n",
    "\n",
    "1.  **Size**: The dataset has **284,807 rows** and **31 columns**.\n",
    "    \n",
    "2.  **Features**: Includes features like Time, V1 to V28, Amount, and Class. Most features appear to be numerical.\n",
    "    \n",
    "3.  **Target Variable**: Class represents the target (fraud detection), with values:\n",
    "    \n",
    "    *   0: Non-fraudulent transactions.\n",
    "        \n",
    "    *   1: Fraudulent transactions.\n",
    "        \n",
    "4.  **No Missing Values**: All columns have complete data.\n",
    "    \n",
    "\n",
    "### Descriptive Statistics\n",
    "\n",
    "*   Time: Indicates elapsed time from the first transaction.\n",
    "    \n",
    "*   Amount: Transaction amounts vary from **$0.00 to $25,691.16**, with a mean of **$88.35**.\n",
    "    \n",
    "*   Class: Fraudulent transactions account for **0.17%** of the dataset (highly imbalanced)."
   ]
  },
  {
   "cell_type": "markdown",
   "id": "e1f487aa-706b-4b2a-875e-aa7120df7cd8",
   "metadata": {},
   "source": [
    "### Analyze Class Distribution\n",
    "\n",
    "Key Question: How imbalanced is the dataset in terms of fraudulent vs. non-fraudulent transactions?"
   ]
  },
  {
   "cell_type": "code",
   "execution_count": 3,
   "id": "f20df81e-242a-4f37-a101-03b9c5d17d8d",
   "metadata": {
    "tags": []
   },
   "outputs": [
    {
     "name": "stderr",
     "output_type": "stream",
     "text": [
      "C:\\Users\\User\\AppData\\Local\\Temp\\ipykernel_6088\\3334505180.py:9: FutureWarning: \n",
      "\n",
      "Passing `palette` without assigning `hue` is deprecated and will be removed in v0.14.0. Assign the `x` variable to `hue` and set `legend=False` for the same effect.\n",
      "\n",
      "  sns.barplot(x=class_counts.index, y=class_counts.values, palette=\"Blues\")\n"
     ]
    },
    {
     "data": {
      "image/png": "[encoded data removed]",
      "text/plain": [
       "<Figure size 600x400 with 1 Axes>"
      ]
     },
     "metadata": {},
     "output_type": "display_data"
    }
   ],
   "source": [
    "# Analyze class distribution\n",
    "class_counts = df['Class'].value_counts(normalize=True)\n",
    "\n",
    "# Visualize the distribution\n",
    "import matplotlib.pyplot as plt\n",
    "import seaborn as sns\n",
    "\n",
    "plt.figure(figsize=(6, 4))\n",
    "sns.barplot(x=class_counts.index, y=class_counts.values, palette=\"Blues\")\n",
    "plt.title(\"Class Distribution (0: Non-Fraud, 1: Fraud)\")\n",
    "plt.xlabel(\"Class\")\n",
    "plt.ylabel(\"Proportion\")\n",
    "plt.xticks([0, 1], [\"Non-Fraud\", \"Fraud\"])\n",
    "plt.show()\n",
    "\n"
   ]
  },
  {
   "cell_type": "markdown",
   "id": "eb2b95e4",
   "metadata": {},
   "source": [
    "### Distribution of Transaction Amounts\n",
    "\n",
    "Key Question: Do fraudulent transactions tend to have higher or lower amounts?"
   ]
  },
  {
   "cell_type": "code",
   "execution_count": 4,
   "id": "7c09c0fe-3474-4c1c-8b93-df9e6cb3cecb",
   "metadata": {
    "tags": []
   },
   "outputs": [
    {
     "data": {
      "image/png": "[encoded data removed]",
      "text/plain": [
       "<Figure size 1000x600 with 1 Axes>"
      ]
     },
     "metadata": {},
     "output_type": "display_data"
    },
    {
     "name": "stderr",
     "output_type": "stream",
     "text": [
      "C:\\Users\\User\\AppData\\Local\\Temp\\ipykernel_6088\\4224705917.py:11: FutureWarning: \n",
      "\n",
      "Passing `palette` without assigning `hue` is deprecated and will be removed in v0.14.0. Assign the `x` variable to `hue` and set `legend=False` for the same effect.\n",
      "\n",
      "  sns.boxplot(x='Class', y='Amount', data=df, palette=\"Set2\")\n"
     ]
    },
    {
     "data": {
      "image/png": "[encoded data removed]",
      "text/plain": [
       "<Figure size 1000x600 with 1 Axes>"
      ]
     },
     "metadata": {},
     "output_type": "display_data"
    }
   ],
   "source": [
    "# Plot the distribution of transaction amounts\n",
    "plt.figure(figsize=(10, 6))\n",
    "sns.histplot(df['Amount'], bins=50, kde=True, color='blue')\n",
    "plt.title(\"Distribution of Transaction Amounts\")\n",
    "plt.xlabel(\"Transaction Amount ($)\")\n",
    "plt.ylabel(\"Frequency\")\n",
    "plt.show()\n",
    "\n",
    "# Compare transaction amounts by class\n",
    "plt.figure(figsize=(10, 6))\n",
    "sns.boxplot(x='Class', y='Amount', data=df, palette=\"Set2\")\n",
    "plt.title(\"Transaction Amount Distribution by Class\")\n",
    "plt.xlabel(\"Class\")\n",
    "plt.ylabel(\"Transaction Amount ($)\")\n",
    "plt.xticks([0, 1], [\"Non-Fraud\", \"Fraud\"])\n",
    "plt.show()\n"
   ]
  },
  {
   "cell_type": "markdown",
   "id": "71660438",
   "metadata": {},
   "source": [
    "### Transaction Time Analysis\n",
    "\n",
    "Key Question: Are fraudulent transactions concentrated during specific times?"
   ]
  },
  {
   "cell_type": "code",
   "execution_count": 5,
   "id": "9be19392-3740-4c42-bc66-a42f8ace9887",
   "metadata": {
    "tags": []
   },
   "outputs": [
    {
     "name": "stderr",
     "output_type": "stream",
     "text": [
      "C:\\Users\\User\\AppData\\Local\\Temp\\ipykernel_6088\\1583862694.py:3: FutureWarning: \n",
      "\n",
      "Passing `palette` without assigning `hue` is deprecated and will be removed in v0.14.0. Assign the `x` variable to `hue` and set `legend=False` for the same effect.\n",
      "\n",
      "  sns.boxplot(x='Class', y='Time', data=df, palette=\"Set2\")\n"
     ]
    },
    {
     "data": {
      "image/png": "[encoded data removed]",
      "text/plain": [
       "<Figure size 1000x600 with 1 Axes>"
      ]
     },
     "metadata": {},
     "output_type": "display_data"
    }
   ],
   "source": [
    "# Relationship between 'Time' and 'Class'\n",
    "plt.figure(figsize=(10, 6))\n",
    "sns.boxplot(x='Class', y='Time', data=df, palette=\"Set2\")\n",
    "plt.title(\"Transaction Time Distribution by Class\")\n",
    "plt.xlabel(\"Class\")\n",
    "plt.ylabel(\"Time\")\n",
    "plt.xticks([0, 1], [\"Non-Fraud\", \"Fraud\"])\n",
    "plt.show()\n"
   ]
  },
  {
   "cell_type": "code",
   "execution_count": 6,
   "id": "0c4b8ce8-5b35-45c0-935b-49b534b35c64",
   "metadata": {
    "tags": []
   },
   "outputs": [
    {
     "name": "stdout",
     "output_type": "stream",
     "text": [
      "Class\n",
      "0    99.827251\n",
      "1     0.172749\n",
      "Name: proportion, dtype: float64\n"
     ]
    }
   ],
   "source": [
    "# Calculate class distribution\n",
    "class_counts = df['Class'].value_counts(normalize=True)\n",
    "\n",
    "# Convert to percentages\n",
    "class_distribution_percentages = class_counts * 100\n",
    "\n",
    "print(class_distribution_percentages)\n",
    "\n"
   ]
  },
  {
   "cell_type": "markdown",
   "id": "bdc0e57d-3aa4-402c-baac-5e30f1857d16",
   "metadata": {},
   "source": [
    "### EDA Results:\n",
    "\n",
    "#### **1\\. Class Distribution**\n",
    "\n",
    "*   The dataset is **highly imbalanced**:\n",
    "    \n",
    "    *   Non-Fraudulent (Class 0): ~99.83%\n",
    "        \n",
    "    *   Fraudulent (Class 1): ~0.17%\n",
    "        \n",
    "\n",
    "#### **2\\. Distribution of Transaction Amounts**\n",
    "\n",
    "*   Most transactions are small, with a majority concentrated below $100.\n",
    "    \n",
    "*   Fraudulent transactions exhibit a broader range in amounts, including higher values, compared to non-fraudulent transactions.\n",
    "    \n",
    "\n",
    "#### **3\\. Transaction Time Analysis**\n",
    "\n",
    "*   Fraudulent transactions show a distinct pattern in time distribution compared to non-fraudulent ones.\n",
    "    \n",
    "*   This suggests potential temporal patterns that could assist in model differentiation."
   ]
  },
  {
   "cell_type": "markdown",
   "id": "162689a3-6fb9-496a-8cdf-40a471f55d99",
   "metadata": {
    "tags": []
   },
   "source": [
    "# ***Data Preprocessing***\n",
    "**Objective**\n",
    "Prepare the dataset for modeling by scaling numerical features, addressing class imbalance, and splitting the data."
   ]
  },
  {
   "cell_type": "markdown",
   "id": "ba61b187",
   "metadata": {},
   "source": [
    "### Scaling of variables\n",
    "\n",
    "##### **1\\. Scale Amount and Time**\n",
    "\n",
    "*   Amount and Time have different scales compared to the other features.\n",
    "    \n",
    "*   Used **StandardScaler** to scale them."
   ]
  },
  {
   "cell_type": "code",
   "execution_count": 7,
   "id": "de283266-6d30-4abe-a12c-9b6e5d739170",
   "metadata": {
    "tags": []
   },
   "outputs": [
    {
     "name": "stdout",
     "output_type": "stream",
     "text": [
      "               Time        Amount\n",
      "count  2.848070e+05  2.848070e+05\n",
      "mean  -3.065637e-16  2.913952e-17\n",
      "std    1.000002e+00  1.000002e+00\n",
      "min   -1.996583e+00 -3.532294e-01\n",
      "25%   -8.552120e-01 -3.308401e-01\n",
      "50%   -2.131453e-01 -2.652715e-01\n",
      "75%    9.372174e-01 -4.471707e-02\n",
      "max    1.642058e+00  1.023622e+02\n"
     ]
    }
   ],
   "source": [
    "from sklearn.preprocessing import StandardScaler\n",
    "\n",
    "# Create a copy of the dataframe for preprocessing\n",
    "df_preprocessed = df.copy()\n",
    "\n",
    "# Scale 'Amount' and 'Time'\n",
    "scaler = StandardScaler()\n",
    "df_preprocessed[['Time', 'Amount']] = scaler.fit_transform(df_preprocessed[['Time', 'Amount']])\n",
    "\n",
    "# Verify scaling\n",
    "print(df_preprocessed[['Time', 'Amount']].describe())\n"
   ]
  },
  {
   "cell_type": "markdown",
   "id": "7b1055e2-f398-400d-803a-f40f3fab63be",
   "metadata": {},
   "source": [
    "##### **2\\. Handle Class Imbalance**\n",
    "\n",
    "*   Fraudulent transactions are only 0.17% of the data.\n",
    "    \n",
    "*   Use **SMOTE (Synthetic Minority Oversampling Technique)** to balance the classes."
   ]
  },
  {
   "cell_type": "code",
   "execution_count": 8,
   "id": "71d7ad8e-f421-457b-859d-7cf03b4fd131",
   "metadata": {},
   "outputs": [
    {
     "name": "stdout",
     "output_type": "stream",
     "text": [
      "Class distribution after SMOTE: Counter({0: 284315, 1: 284315})\n"
     ]
    }
   ],
   "source": [
    "from imblearn.over_sampling import SMOTE\n",
    "\n",
    "# Separate features and target\n",
    "X = df_preprocessed.drop('Class', axis=1)\n",
    "y = df_preprocessed['Class']\n",
    "\n",
    "# Apply SMOTE\n",
    "smote = SMOTE(random_state=42)\n",
    "X_resampled, y_resampled = smote.fit_resample(X, y)\n",
    "\n",
    "# Check new class distribution\n",
    "from collections import Counter\n",
    "print(\"Class distribution after SMOTE:\", Counter(y_resampled))\n"
   ]
  },
  {
   "cell_type": "markdown",
   "id": "1ab78cb9",
   "metadata": {},
   "source": [
    "##### **3\\. Split the Data**\n",
    "\n",
    "*   Divide the data into training and testing sets for modeling."
   ]
  },
  {
   "cell_type": "code",
   "execution_count": 9,
   "id": "4b0fb1f1-21a2-42c3-aee9-ffcffe8ca286",
   "metadata": {},
   "outputs": [
    {
     "name": "stdout",
     "output_type": "stream",
     "text": [
      "Training set size: (398041, 30)\n",
      "Testing set size: (170589, 30)\n"
     ]
    }
   ],
   "source": [
    "from sklearn.model_selection import train_test_split\n",
    "\n",
    "# Split the resampled data\n",
    "X_train, X_test, y_train, y_test = train_test_split(X_resampled, y_resampled, test_size=0.3, random_state=42)\n",
    "\n",
    "print(\"Training set size:\", X_train.shape)\n",
    "print(\"Testing set size:\", X_test.shape)\n"
   ]
  },
  {
   "cell_type": "markdown",
   "id": "09b5771f",
   "metadata": {},
   "source": [
    "### **Feature Selection and Modelling**\n",
    "\n",
    "\n",
    "1.  Perform feature selection or engineering.\n",
    "    \n",
    "2.  Begin building baseline and advanced models."
   ]
  },
  {
   "cell_type": "code",
   "execution_count": 10,
   "id": "e57bcde6-5d7a-4b82-8e73-2ac57125d1e3",
   "metadata": {},
   "outputs": [
    {
     "data": {
      "text/plain": [
       "((398041, 30), (170589, 30), Counter({0: 284315, 1: 284315}))"
      ]
     },
     "execution_count": 10,
     "metadata": {},
     "output_type": "execute_result"
    }
   ],
   "source": [
    "from sklearn.preprocessing import StandardScaler\n",
    "from imblearn.over_sampling import SMOTE\n",
    "from sklearn.model_selection import train_test_split\n",
    "from collections import Counter\n",
    "\n",
    "# Step 1: Scale 'Amount' and 'Time'\n",
    "scaler = StandardScaler()\n",
    "df_preprocessed = df.copy()\n",
    "df_preprocessed[['Time', 'Amount']] = scaler.fit_transform(df_preprocessed[['Time', 'Amount']])\n",
    "\n",
    "# Step 2: Separate features and target\n",
    "X = df_preprocessed.drop('Class', axis=1)\n",
    "y = df_preprocessed['Class']\n",
    "\n",
    "# Step 3: Handle class imbalance using SMOTE\n",
    "smote = SMOTE(random_state=42)\n",
    "X_resampled, y_resampled = smote.fit_resample(X, y)\n",
    "\n",
    "# Check new class distribution after SMOTE\n",
    "class_distribution_after_smote = Counter(y_resampled)\n",
    "\n",
    "# Step 4: Split the data into training and testing sets\n",
    "X_train, X_test, y_train, y_test = train_test_split(X_resampled, y_resampled, test_size=0.3, random_state=42)\n",
    "\n",
    "# Output the sizes of the training and testing sets and the new class distribution\n",
    "X_train.shape, X_test.shape, class_distribution_after_smote"
   ]
  },
  {
   "cell_type": "markdown",
   "id": "a047acfb-c0b4-4989-a573-00097fe2c79b",
   "metadata": {},
   "source": [
    "### Results After Preprocessing:\n",
    "\n",
    "1.  **Training and Testing Sets**:\n",
    "    \n",
    "    *   Training set size: **398,041 rows** with **30 features**.\n",
    "        \n",
    "    *   Testing set size: **170,589 rows** with **30 features**.\n",
    "        \n",
    "2.  **Class Distribution After SMOTE**:\n",
    "    \n",
    "    *   **Non-Fraudulent (Class 0)**: 284,315 samples.\n",
    "        \n",
    "    *   **Fraudulent (Class 1)**: 284,315 samples.\n",
    "        \n",
    "    *   The dataset is now perfectly balanced."
   ]
  },
  {
   "cell_type": "markdown",
   "id": "d30f7ecb-0753-4933-a541-0f4baa71cb7f",
   "metadata": {},
   "source": [
    "# ***Feature Engineering***\n",
    "\n",
    "#### **Objective**\n",
    "\n",
    "Enhance the dataset by identifying or engineering meaningful features and reducing dimensionality, if needed."
   ]
  },
  {
   "cell_type": "markdown",
   "id": "df49245d",
   "metadata": {},
   "source": [
    "#### **Step 1** \n",
    "\n",
    " **Correlation Analysis**: Identify the features most correlated with the target variable (Class)."
   ]
  },
  {
   "cell_type": "code",
   "execution_count": 11,
   "id": "7937aa2d-94fb-4601-8d5f-453b4fc5b426",
   "metadata": {},
   "outputs": [
    {
     "name": "stdout",
     "output_type": "stream",
     "text": [
      "Top correlations with 'Class':\n",
      "Class    1.000000\n",
      "V11      0.154876\n",
      "V4       0.133447\n",
      "V2       0.091289\n",
      "V21      0.040413\n",
      "V19      0.034783\n",
      "V20      0.020090\n",
      "V8       0.019875\n",
      "V27      0.017580\n",
      "V28      0.009536\n",
      "Name: Class, dtype: float64\n",
      "\n",
      "Negative correlations with 'Class':\n",
      "V9    -0.097733\n",
      "V1    -0.101347\n",
      "V18   -0.111485\n",
      "V7    -0.187257\n",
      "V3    -0.192961\n",
      "V16   -0.196539\n",
      "V10   -0.216883\n",
      "V12   -0.260593\n",
      "V14   -0.302544\n",
      "V17   -0.326481\n",
      "Name: Class, dtype: float64\n"
     ]
    }
   ],
   "source": [
    "import numpy as np\n",
    "\n",
    "# Compute correlations with the target variable\n",
    "correlations = df_preprocessed.corr()['Class'].sort_values(ascending=False)\n",
    "\n",
    "print(\"Top correlations with 'Class':\")\n",
    "print(correlations.head(10))\n",
    "print(\"\\nNegative correlations with 'Class':\")\n",
    "print(correlations.tail(10))\n"
   ]
  },
  {
   "cell_type": "markdown",
   "id": "36bc53ca-1671-4019-a4ba-7660f33fa2ca",
   "metadata": {},
   "source": [
    "### **Insights from Correlation Analysis**\n",
    "\n",
    "1.  **Positively Correlated Features**:\n",
    "    \n",
    "    *   V11, V4, and V2 show the strongest positive correlations with the target variable Class.\n",
    "        \n",
    "    *   These features might have some predictive power for identifying fraudulent transactions.\n",
    "        \n",
    "2.  **Negatively Correlated Features**:\n",
    "    \n",
    "    *   V17, V14, and V12 show the strongest negative correlations.\n",
    "        \n",
    "    *   These features are inversely related to fraud and could also be important predictors.\n",
    "        \n",
    "3.  **Thresholds for Feature Selection**:\n",
    "    \n",
    "    *   Features with absolute correlations above |0.1| could be strong candidates for model inclusion.\n",
    "        \n",
    "    *   We’ll include both positively and negatively correlated features."
   ]
  },
  {
   "cell_type": "markdown",
   "id": "6df69a65-5045-4550-b9bb-f7ae5381e8f3",
   "metadata": {},
   "source": [
    "#### **Step 2**\n",
    "\n",
    "**Feature Selection**: \n",
    "* Keep only highly correlated features (e.g., with correlation > |0.1|)\n",
    "* Drop features with low or no predictive power.\n",
    "* Optional: Dimensionality Reduction: Use techniques like PCA to reduce the number of features if necessary."
   ]
  },
  {
   "cell_type": "code",
   "execution_count": 12,
   "id": "5543c86a-4124-4cd0-aaea-e8f1da919fc2",
   "metadata": {},
   "outputs": [
    {
     "name": "stdout",
     "output_type": "stream",
     "text": [
      "Selected features for modeling: ['V11', 'V4', 'V1', 'V18', 'V7', 'V3', 'V16', 'V10', 'V12', 'V14', 'V17']\n"
     ]
    }
   ],
   "source": [
    "\n",
    "# Set threshold for feature selection (absolute correlation > 0.1)\n",
    "selected_features = correlations[abs(correlations) > 0.1].index.tolist()\n",
    "\n",
    "# Remove 'Class' from the selected features\n",
    "selected_features.remove('Class')\n",
    "\n",
    "print(\"Selected features for modeling:\", selected_features)\n",
    "\n",
    "# Create a new dataset with the selected features\n",
    "X_selected = X_resampled[selected_features]\n"
   ]
  },
  {
   "cell_type": "markdown",
   "id": "f0efeabc",
   "metadata": {},
   "source": [
    "# ***Baseline Modeling and Future Modeling***\n",
    "\n",
    "#### **Objective**\n",
    "1.   **Baseline Modeling**:\n",
    "    \n",
    "    *   Train a Logistic Regression model with the selected features as a baseline.\n",
    "        \n",
    "    *   Evaluate performance using precision, recall, F1-score, and AUC-ROC.\n",
    "        \n",
    "2.   **Advanced Modeling**:\n",
    "    \n",
    "    *   Use models like Random Forest or XGBoost for improved performance."
   ]
  },
  {
   "cell_type": "markdown",
   "id": "7455cada",
   "metadata": {},
   "source": [
    "### Baseline Modeling\n",
    "\n",
    "*   Recompute correlations.\n",
    "    \n",
    "*   Select features with absolute correlation > 0.1.\n",
    "    \n",
    "*   Train a Logistic Regression model."
   ]
  },
  {
   "cell_type": "code",
   "execution_count": 13,
   "id": "eb1c7f55-9fe6-4bce-aed5-80723fae9d00",
   "metadata": {},
   "outputs": [
    {
     "name": "stdout",
     "output_type": "stream",
     "text": [
      "Classification Report:\n",
      "               precision    recall  f1-score   support\n",
      "\n",
      "           0       0.91      0.97      0.94     85149\n",
      "           1       0.97      0.90      0.94     85440\n",
      "\n",
      "    accuracy                           0.94    170589\n",
      "   macro avg       0.94      0.94      0.94    170589\n",
      "weighted avg       0.94      0.94      0.94    170589\n",
      "\n",
      "ROC AUC Score: 0.9851025762209826\n"
     ]
    }
   ],
   "source": [
    "from sklearn.linear_model import LogisticRegression\n",
    "from sklearn.metrics import classification_report, roc_auc_score, roc_curve\n",
    "# Recompute correlations\n",
    "correlations = df_preprocessed.corr()['Class'].sort_values(ascending=False)\n",
    "\n",
    "# Step 1: Select features based on correlation threshold (absolute correlation > 0.1)\n",
    "selected_features = correlations[abs(correlations) > 0.1].index.tolist()\n",
    "selected_features.remove('Class')  # Exclude the target variable\n",
    "\n",
    "# Step 2: Create a new dataset with the selected features\n",
    "X_selected = X_resampled[selected_features]\n",
    "\n",
    "# Step 3: Train a Logistic Regression model as a baseline\n",
    "logistic_model = LogisticRegression(max_iter=1000, random_state=42)\n",
    "logistic_model.fit(X_train[selected_features], y_train)\n",
    "\n",
    "# Step 4: Make predictions on the test set\n",
    "y_pred = logistic_model.predict(X_test[selected_features])\n",
    "y_pred_proba = logistic_model.predict_proba(X_test[selected_features])[:, 1]\n",
    "\n",
    "# Step 5: Evaluate the model\n",
    "from sklearn.metrics import classification_report, roc_auc_score\n",
    "\n",
    "classification_rep = classification_report(y_test, y_pred)\n",
    "roc_auc = roc_auc_score(y_test, y_pred_proba)\n",
    "\n",
    "print(\"Classification Report:\\n\", classification_rep)\n",
    "print(\"ROC AUC Score:\", roc_auc)\n"
   ]
  },
  {
   "cell_type": "markdown",
   "id": "44a4ffbf-3f50-415b-b577-944acd6dab78",
   "metadata": {},
   "source": [
    "### **Baseline Model Performance**\n",
    "\n",
    "#### **Evaluation Metrics**\n",
    "\n",
    "1.  **Precision**:\n",
    "    \n",
    "    *   Class 0 (Non-Fraudulent): **0.91**\n",
    "        \n",
    "    *   Class 1 (Fraudulent): **0.97**\n",
    "        \n",
    "    *   Indicates the model is accurate in predicting fraudulent transactions (few false positives).\n",
    "        \n",
    "2.  **Recall**:\n",
    "    \n",
    "    *   Class 0: **0.97**\n",
    "        \n",
    "    *   Class 1: **0.90**\n",
    "        \n",
    "    *   Suggests the model identifies 90% of actual fraud cases (some false negatives).\n",
    "        \n",
    "3.  **F1-Score**:\n",
    "    \n",
    "    *   Both classes achieve **0.94**, showing a balanced trade-off between precision and recall.\n",
    "        \n",
    "4.  **ROC AUC Score**:\n",
    "    \n",
    "    *   **0.985**: Indicates excellent overall model performance in distinguishing between fraudulent and non-fraudulent transactions.\n",
    "        \n",
    "5.  **Accuracy**:\n",
    "    \n",
    "    *   Overall accuracy is **94%**, which is a good starting point."
   ]
  },
  {
   "cell_type": "markdown",
   "id": "1394dff2-f45f-4c8a-930c-eb49c7805c29",
   "metadata": {},
   "source": [
    "### **Next Steps**\n",
    "\n",
    "1.  **Advanced Modeling**:\n",
    "    \n",
    "    *   Experiment with tree-based models like:\n",
    "        \n",
    "        *   **Random Forest**: For better handling of non-linear relationships.\n",
    "            \n",
    "        *   **XGBoost or LightGBM**: For higher accuracy and better performance on imbalanced datasets.\n",
    "            \n",
    "    *   Compare their performance to the Logistic Regression baseline.\n",
    "        \n",
    "2.  **Hyperparameter Tuning**:\n",
    "    \n",
    "    *   Use GridSearchCV or RandomizedSearchCV to optimize model parameters for better results.\n",
    "        \n",
    "3.  **Insights and Recommendations**:\n",
    "    \n",
    "    *   Analyze feature importance from advanced models.\n",
    "        \n",
    "    *   Summarize findings for actionable recommendations."
   ]
  },
  {
   "cell_type": "code",
   "execution_count": 14,
   "id": "9d9e2fda-94ad-4ee8-ac07-853d117d3066",
   "metadata": {
    "scrolled": true
   },
   "outputs": [
    {
     "name": "stderr",
     "output_type": "stream",
     "text": [
      "C:\\Users\\User\\anaconda3\\envs\\data_science_project\\lib\\site-packages\\xgboost\\core.py:158: UserWarning: [11:22:09] WARNING: C:\\buildkite-agent\\builds\\buildkite-windows-cpu-autoscaling-group-i-0c55ff5f71b100e98-1\\xgboost\\xgboost-ci-windows\\src\\learner.cc:740: \n",
      "Parameters: { \"use_label_encoder\" } are not used.\n",
      "\n",
      "  warnings.warn(smsg, UserWarning)\n"
     ]
    },
    {
     "name": "stdout",
     "output_type": "stream",
     "text": [
      "Random Forest Classification Report:\n",
      "              precision    recall  f1-score   support\n",
      "\n",
      "           0       1.00      1.00      1.00     85149\n",
      "           1       1.00      1.00      1.00     85440\n",
      "\n",
      "    accuracy                           1.00    170589\n",
      "   macro avg       1.00      1.00      1.00    170589\n",
      "weighted avg       1.00      1.00      1.00    170589\n",
      "\n",
      "Random Forest ROC AUC Score: 0.9999796952097585\n",
      "\n",
      "XGBoost Classification Report:\n",
      "              precision    recall  f1-score   support\n",
      "\n",
      "           0       1.00      1.00      1.00     85149\n",
      "           1       1.00      1.00      1.00     85440\n",
      "\n",
      "    accuracy                           1.00    170589\n",
      "   macro avg       1.00      1.00      1.00    170589\n",
      "weighted avg       1.00      1.00      1.00    170589\n",
      "\n",
      "XGBoost ROC AUC Score: 0.9999459136167034\n"
     ]
    }
   ],
   "source": [
    "from sklearn.ensemble import RandomForestClassifier\n",
    "from xgboost import XGBClassifier\n",
    "from sklearn.metrics import classification_report, roc_auc_score\n",
    "\n",
    "# Train a Random Forest model\n",
    "rf_model = RandomForestClassifier(n_estimators=100, random_state=42)\n",
    "rf_model.fit(X_train[selected_features], y_train)\n",
    "\n",
    "# Train an XGBoost model\n",
    "xgb_model = XGBClassifier(use_label_encoder=False, eval_metric='logloss', random_state=42)\n",
    "xgb_model.fit(X_train[selected_features], y_train)\n",
    "\n",
    "# Make predictions with both models\n",
    "rf_pred = rf_model.predict(X_test[selected_features])\n",
    "rf_pred_proba = rf_model.predict_proba(X_test[selected_features])[:, 1]\n",
    "\n",
    "xgb_pred = xgb_model.predict(X_test[selected_features])\n",
    "xgb_pred_proba = xgb_model.predict_proba(X_test[selected_features])[:, 1]\n",
    "\n",
    "# Evaluate Random Forest\n",
    "print(\"Random Forest Classification Report:\")\n",
    "print(classification_report(y_test, rf_pred))\n",
    "rf_auc = roc_auc_score(y_test, rf_pred_proba)\n",
    "print(\"Random Forest ROC AUC Score:\", rf_auc)\n",
    "\n",
    "# Evaluate XGBoost\n",
    "print(\"\\nXGBoost Classification Report:\")\n",
    "print(classification_report(y_test, xgb_pred))\n",
    "xgb_auc = roc_auc_score(y_test, xgb_pred_proba)\n",
    "print(\"XGBoost ROC AUC Score:\", xgb_auc)\n"
   ]
  },
  {
   "cell_type": "markdown",
   "id": "50a318bf",
   "metadata": {},
   "source": [
    "### **Model Comparison**\n",
    "\n",
    "#### **Random Forest**\n",
    "\n",
    "*   **Precision**: 1.00\n",
    "    \n",
    "*   **Recall**: 1.00\n",
    "    \n",
    "*   **F1-Score**: 1.00\n",
    "    \n",
    "*   **ROC AUC Score**: **0.99998**\n",
    "    \n",
    "*   The model has perfect classification metrics on this test dataset.\n",
    "    \n",
    "\n",
    "#### **XGBoost**\n",
    "\n",
    "*   **Precision**: 1.00\n",
    "    \n",
    "*   **Recall**: 1.00\n",
    "    \n",
    "*   **F1-Score**: 1.00\n",
    "    \n",
    "*   **ROC AUC Score**: **0.99995**\n",
    "    \n",
    "*   Similar to Random Forest, XGBoost delivers near-perfect performance."
   ]
  },
  {
   "cell_type": "markdown",
   "id": "e4d0d1bc-a013-43c7-ae01-ebb9014b354d",
   "metadata": {},
   "source": [
    "### **Hyperparameter Tuning for Random Forest**\n",
    "\n",
    "#### **Objective**\n",
    "\n",
    "Optimize the Random Forest model's performance by fine-tuning its parameters using **RandomizedSearchCV**."
   ]
  },
  {
   "cell_type": "code",
   "execution_count": 15,
   "id": "aeb40dc8-eefe-47f8-b984-80cc1ffd5680",
   "metadata": {},
   "outputs": [
    {
     "name": "stdout",
     "output_type": "stream",
     "text": [
      "Fitting 3 folds for each of 20 candidates, totalling 60 fits\n",
      "Best Parameters: {'n_estimators': 200, 'min_samples_split': 5, 'min_samples_leaf': 2, 'max_depth': None}\n",
      "Best ROC AUC Score from RandomizedSearchCV: 0.9999785788076753\n"
     ]
    }
   ],
   "source": [
    "from sklearn.model_selection import RandomizedSearchCV\n",
    "import numpy as np\n",
    "\n",
    "# Define the parameter grid with ranges\n",
    "param_distributions = {\n",
    "    'n_estimators': [50, 100, 200],\n",
    "    'max_depth': [10, 20, None],\n",
    "    'min_samples_split': [2, 5, 10],\n",
    "    'min_samples_leaf': [1, 2, 4]\n",
    "}\n",
    "\n",
    "# Initialize the Random Forest model\n",
    "rf_model = RandomForestClassifier(random_state=42)\n",
    "\n",
    "# Set up RandomizedSearchCV\n",
    "random_search = RandomizedSearchCV(estimator=rf_model, \n",
    "                                   param_distributions=param_distributions,\n",
    "                                   n_iter=20,  # Number of parameter settings to sample\n",
    "                                   scoring='roc_auc',\n",
    "                                   cv=3,\n",
    "                                   verbose=2,\n",
    "                                   random_state=42,\n",
    "                                   n_jobs=-1)\n",
    "\n",
    "# Fit the model\n",
    "random_search.fit(X_train[selected_features], y_train)\n",
    "\n",
    "\n",
    "# Get the best parameters and score\n",
    "best_params = random_search.best_params_\n",
    "best_score = random_search.best_score_\n",
    "\n",
    "print(\"Best Parameters:\", best_params)\n",
    "print(\"Best ROC AUC Score from RandomizedSearchCV:\", best_score)\n"
   ]
  },
  {
   "cell_type": "markdown",
   "id": "97243e8c",
   "metadata": {},
   "source": [
    "### **Hyperparameter Tuning Results**\n",
    "\n",
    "#### **Best Parameters**:\n",
    "\n",
    "*   **n\\_estimators**: 200\n",
    "    \n",
    "*   **min\\_samples\\_split**: 5\n",
    "    \n",
    "*   **min\\_samples\\_leaf**: 2\n",
    "    \n",
    "*   **max\\_depth**: None\n",
    "    \n",
    "\n",
    "#### **Best ROC AUC Score**:\n",
    "\n",
    "*   **0.99998** (very close to the baseline model)\n",
    "    \n",
    "\n",
    "These tuned parameters provide a **very slight improvement** in performance compared to the default Random Forest model."
   ]
  },
  {
   "cell_type": "markdown",
   "id": "e5bc396b-7bce-4089-b3fe-39a4e01047b7",
   "metadata": {},
   "source": [
    "### **Feature Importance Analysis**\n",
    "\n",
    "Plot and analyze the feature importance to understand which features are most critical for predicting fraud."
   ]
  },
  {
   "cell_type": "code",
   "execution_count": 16,
   "id": "78a2b711-4b47-4180-b748-16126d6c30b2",
   "metadata": {},
   "outputs": [
    {
     "name": "stderr",
     "output_type": "stream",
     "text": [
      "C:\\Users\\User\\AppData\\Local\\Temp\\ipykernel_6088\\3619178057.py:13: FutureWarning: \n",
      "\n",
      "Passing `palette` without assigning `hue` is deprecated and will be removed in v0.14.0. Assign the `y` variable to `hue` and set `legend=False` for the same effect.\n",
      "\n",
      "  sns.barplot(x='Importance', y='Feature', data=feature_importance_df.head(10), palette=\"Blues\")\n"
     ]
    },
    {
     "data": {
      "image/png": "[encoded data removed]",
      "text/plain": [
       "<Figure size 1000x600 with 1 Axes>"
      ]
     },
     "metadata": {},
     "output_type": "display_data"
    }
   ],
   "source": [
    "# Get feature importance from the best model\n",
    "final_rf_model = random_search.best_estimator_\n",
    "feature_importances = final_rf_model.feature_importances_\n",
    "\n",
    "# Create a DataFrame for visualization\n",
    "feature_importance_df = pd.DataFrame({\n",
    "    'Feature': selected_features,\n",
    "    'Importance': feature_importances\n",
    "}).sort_values(by='Importance', ascending=False)\n",
    "\n",
    "# Plot the top 10 features\n",
    "plt.figure(figsize=(10, 6))\n",
    "sns.barplot(x='Importance', y='Feature', data=feature_importance_df.head(10), palette=\"Blues\")\n",
    "plt.title(\"Top 10 Feature Importances\")\n",
    "plt.xlabel(\"Importance\")\n",
    "plt.ylabel(\"Feature\")\n",
    "plt.show()\n"
   ]
  },
  {
   "cell_type": "markdown",
   "id": "c657f977",
   "metadata": {},
   "source": [
    "### Cell 24: Explanation\n",
    "\n",
    "This code performs the following operations:\n",
    "- Describe what this cell does (e.g., data loading, preprocessing, training, etc.)."
   ]
  },
  {
   "cell_type": "markdown",
   "id": "91326f27-dd40-45b6-8a59-55a78645a6b3",
   "metadata": {},
   "source": [
    "### *Saving and loading the model for api*"
   ]
  },
  {
   "cell_type": "code",
   "execution_count": null,
   "id": "e1362efc-f354-4f28-8882-d1632240fa10",
   "metadata": {},
   "outputs": [],
   "source": [
    "import pickle\n",
    "\n",
    "# Save the trained model again\n",
    "with open('random_forest_model.pkl', 'wb') as file:\n",
    "    pickle.dump(final_rf_model, file)\n"
   ]
  },
  {
   "cell_type": "code",
   "execution_count": null,
   "id": "0e8c8747-369e-4917-b8b3-761ecf259a21",
   "metadata": {},
   "outputs": [],
   "source": [
    "import pickle\n",
    "\n",
    "# Test loading the model\n",
    "with open('random_forest_model.pkl', 'rb') as file:\n",
    "    model = pickle.load(file)\n",
    "\n",
    "print(\"Model loaded successfully!\")\n"
   ]
  },
  {
   "cell_type": "markdown",
   "id": "ebeaf22a-6d5f-474e-a5e1-b058552cc39c",
   "metadata": {},
   "source": [
    "# **Closing Statement**\n",
    "\n",
    "#### **Project Overview**\n",
    "\n",
    "This project focused on building a robust machine learning model to detect fraudulent credit card transactions. By leveraging data preprocessing, feature engineering, and advanced modeling techniques, we successfully created a predictive system that achieves high accuracy while addressing the class imbalance inherent in fraud detection datasets."
   ]
  },
  {
   "cell_type": "markdown",
   "id": "3adb0941-fa84-43fa-9e39-c43eea128a12",
   "metadata": {},
   "source": [
    "## **Key Achievements**\n",
    "\n",
    "1.  **Exploratory Data Analysis (EDA)**:\n",
    "    \n",
    "    *   Uncovered key patterns in fraudulent vs. non-fraudulent transactions.\n",
    "        \n",
    "    *   Identified important features influencing fraud detection.\n",
    "        \n",
    "2.  **Model Development**:\n",
    "    \n",
    "    *   Developed a Random Forest classifier with a tuned hyperparameter configuration.\n",
    "        \n",
    "    *   Achieved excellent performance with:\n",
    "        \n",
    "        *   **Precision**: High accuracy in identifying fraudulent transactions.\n",
    "            \n",
    "        *   **Recall**: Strong ability to capture most fraud cases.\n",
    "            \n",
    "        *   **ROC AUC**: ~99%, indicating a high-performing model.\n",
    "            \n",
    "3.  **API Integration**:\n",
    "    \n",
    "    *   Deployed the model using Flask as a REST API for real-time fraud detection.\n",
    "        \n",
    "    *   Tested the /predict endpoint with various inputs to validate predictions."
   ]
  },
  {
   "cell_type": "markdown",
   "id": "196e1e26-b544-4eda-b43a-3e75a1af1181",
   "metadata": {},
   "source": [
    "## **Takeaways**\n",
    "\n",
    "*   **Technical Skills**:\n",
    "    \n",
    "    *   Proficient use of machine learning libraries (Scikit-learn) and Flask for API development.\n",
    "        \n",
    "    *   Handling imbalanced datasets with techniques like SMOTE.\n",
    "        \n",
    "*   **Practical Understanding**:\n",
    "    \n",
    "    *   Operationalizing a machine learning model in a real-world scenario.\n",
    "        \n",
    "    *   Designing a system to handle data securely and efficiently."
   ]
  },
  {
   "cell_type": "markdown",
   "id": "0d701c6a-b2b5-4440-ad78-5de73e3353bb",
   "metadata": {},
   "source": [
    "## **Future Scope**\n",
    "\n",
    "1.  **Deployment**:\n",
    "    \n",
    "    *   Host the API on a public cloud platform (e.g., Heroku, AWS) for broader access.\n",
    "        \n",
    "    *   Build an interactive dashboard using Streamlit for real-time insights.\n",
    "        \n",
    "2.  **Model Optimization**:\n",
    "    \n",
    "    *   Experiment with gradient boosting algorithms like XGBoost for enhanced performance.\n",
    "        \n",
    "    *   Explore additional feature engineering and deep learning approaches.\n",
    "        \n",
    "3.  **Business Application**:\n",
    "    \n",
    "    *   Expand the system to include transaction monitoring over time.\n",
    "        \n",
    "    *   Provide actionable insights for fraud prevention teams."
   ]
  },
  {
   "cell_type": "markdown",
   "id": "3364623a-1ed6-43f9-863f-20738b6d2d2f",
   "metadata": {},
   "source": [
    "### **Conclusion**\n",
    "\n",
    "This project demonstrates a complete end-to-end machine learning pipeline, from data analysis and model training to deployment as an API. It highlights key skills required for data science roles and provides a solid foundation for further exploration into operational machine learning."
   ]
  },
  {
   "cell_type": "code",
   "execution_count": null,
   "id": "7764da71-b3c3-4045-897c-4b7d8bfe6c56",
   "metadata": {},
   "outputs": [],
   "source": []
  }
 ],
 "metadata": {
  "kernelspec": {
   "display_name": "Python 3 (ipykernel)",
   "language": "python",
   "name": "python3"
  },
  "language_info": {
   "codemirror_mode": {
    "name": "ipython",
    "version": 3
   },
   "file_extension": ".py",
   "mimetype": "text/x-python",
   "name": "python",
   "nbconvert_exporter": "python",
   "pygments_lexer": "ipython3",
   "version": "3.9.21"
  }
 },
 "nbformat": 4,
 "nbformat_minor": 5
}
